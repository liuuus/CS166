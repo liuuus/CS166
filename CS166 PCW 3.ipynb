{
 "cells": [
  {
   "cell_type": "code",
   "execution_count": 1,
   "metadata": {},
   "outputs": [],
   "source": [
    "import heapq \n",
    "import scipy.stats as sts "
   ]
  },
  {
   "cell_type": "code",
   "execution_count": null,
   "metadata": {},
   "outputs": [],
   "source": [
    "class Queue:\n",
    "    def __init__(self, service_rate):\n",
    "        self.service_time = 1 / service_rate\n",
    "        self.in_queue = 0 # empty queue \n",
    "        self.being_served = 0 # empty server\n",
    "\n",
    "    def add_customer(self, schedule):\n",
    "        self.in_queue += 1\n",
    "            \n",
    "    def start_serving(self, schedule):\n",
    "        self.in_queue -= 1\n",
    "        self.being_served += 1 # add to server\n",
    "            \n",
    "    def finish_serving(self, schedule):\n",
    "        self.being_served -= 1 # remove from server"
   ]
  },
  {
   "cell_type": "code",
   "execution_count": null,
   "metadata": {},
   "outputs": [],
   "source": [
    "class BusSystem:\n",
    "    \n",
    "    def __init__(self, arrival_rate, service_rate):\n",
    "        self.queue = Queue(service_rate)\n",
    "        self.arrival_distr = sts.expon(scale=1/arrival_rate)\n",
    "\n",
    "    def add_customer(self, schedule):\n",
    "        self.queue.add_customer(schedule)\n",
    "        schedule.add_event_after( # when to add a new customer\n",
    "            self.arrival_distr.rvs(),\n",
    "            self.add_customer)\n",
    "\n",
    "    def run(self, schedule):\n",
    "        schedule.add_event_after( # when the 1st customer arrives\n",
    "            self.arrival_distr.rvs(),\n",
    "            self.add_customer)"
   ]
  },
  {
   "cell_type": "code",
   "execution_count": null,
   "metadata": {},
   "outputs": [],
   "source": [
    "def run_simulation(arrival_rate, service_rate, run_until):\n",
    "    schedule = Schedule()\n",
    "    bus_system = BusSystem(arrival_rate, service_rate)\n",
    "    bus_system.run(schedule)\n",
    "    while schedule.next_event_time() < run_until:\n",
    "        schedule.run_next_event()\n",
    "    return bus_system"
   ]
  },
  {
   "cell_type": "markdown",
   "metadata": {},
   "source": [
    "I don't think I can run this to visualize it since the whole system is missing a couple of other classes, such as Schedule, etc."
   ]
  },
  {
   "cell_type": "markdown",
   "metadata": {},
   "source": [
    "# Reflection:\n",
    "\n",
    "**#PythonImplementation**\n",
    "- followed the instructions in the PCW guide to create a plausible model\n",
    "- managed to include almost all components required\n",
    "\n",
    "**#CodeRedability**\n",
    "- provided reasonable comments where needed"
   ]
  }
 ],
 "metadata": {
  "kernelspec": {
   "display_name": "Python 3",
   "language": "python",
   "name": "python3"
  },
  "language_info": {
   "codemirror_mode": {
    "name": "ipython",
    "version": 3
   },
   "file_extension": ".py",
   "mimetype": "text/x-python",
   "name": "python",
   "nbconvert_exporter": "python",
   "pygments_lexer": "ipython3",
   "version": "3.7.4"
  }
 },
 "nbformat": 4,
 "nbformat_minor": 2
}
