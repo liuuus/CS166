{
 "cells": [
  {
   "cell_type": "markdown",
   "metadata": {},
   "source": [
    "# Exercise 14"
   ]
  },
  {
   "cell_type": "code",
   "execution_count": null,
   "metadata": {},
   "outputs": [],
   "source": [
    "import numpy as np\n",
    "import scipy.stats as sts\n",
    "import matplotlib.pyplot as plt"
   ]
  },
  {
   "cell_type": "code",
   "execution_count": null,
   "metadata": {},
   "outputs": [],
   "source": [
    "# Exponential interarrival times\n",
    "\n",
    "lambd = 1  \n",
    "runs = 10000\n",
    "p_wait_times = []\n",
    "\n",
    "for _ in range(runs):\n",
    "    p_arrival_time = np.random.uniform(0, 100)\n",
    "    interarrival_times = np.random.exponential(lambd, size=1000)\n",
    "    b_arrival_times = np.cumsum(interarrival_times)\n",
    "    index = b_arrival_times.searchsorted(p_arrival_time)\n",
    "    p_wait_times.append(b_arrival_times[index] - p_arrival_time)"
   ]
  },
  {
   "cell_type": "code",
   "execution_count": null,
   "metadata": {},
   "outputs": [],
   "source": [
    "# Uniform interarrival times\n",
    "\n",
    "lambd = 1  \n",
    "trials = 10000\n",
    "p_wait_times = []\n",
    "\n",
    "for _ in range(runs):\n",
    "    p_arrival_time = np.random.uniform(0, 100)\n",
    "    interarrival_times = np.random.uniform(0, 2 * lambd, size=1000)\n",
    "    b_arrival_times = np.cumsum(interarrival_times)\n",
    "    ind = b_arrival_times.searchsorted(p_arrival_time)\n",
    "    p_wait_times.append(b_arrival_times[ind] - p_arrival_time)"
   ]
  },
  {
   "cell_type": "markdown",
   "metadata": {},
   "source": [
    "# Exercise 24"
   ]
  },
  {
   "cell_type": "code",
   "execution_count": null,
   "metadata": {},
   "outputs": [],
   "source": [
    "runs = 1000\n",
    "\n",
    "init_age = 50\n",
    "init_invest = 150000\n",
    "gr_mean = 0.08\n",
    "gr_std = 0.09\n",
    "years = 20  \n",
    "contribution = 10000  \n",
    "withdraw = 65000 \n",
    "\n",
    "probs_dying = {\n",
    "    50: 0.00832, 51: 0.00911, 52: 0.00996, 53: 0.01089, 54: 0.01190,\n",
    "    55: 0.01300, 56: 0.01421, 57: 0.01554, 58: 0.01700, 59: 0.01859,\n",
    "    60: 0.02034, 61: 0.02224, 62: 0.02431, 63: 0.02657, 64: 0.02904,\n",
    "    65: 0.03175, 66: 0.03474, 67: 0.03804, 68: 0.04168, 69: 0.04561,\n",
    "    70: 0.04979, 71: 0.05415, 72: 0.05865, 73: 0.06326, 74: 0.06812,\n",
    "    75: 0.07337, 76: 0.07918, 77: 0.08570, 78: 0.09306, 79: 0.10119,\n",
    "    80: 0.10998, 81: 0.11935, 82: 0.12917, 83: 0.13938, 84: 0.15001,\n",
    "    85: 0.16114, 86: 0.17282, 87: 0.18513, 88: 0.19825, 89: 0.21246,\n",
    "    90: 0.22814, 91: 0.24577, 92: 0.26593, 93: 0.28930, 94: 0.31666,\n",
    "    95: 0.35124, 96: 0.40056, 97: 0.48842, 98: 0.66815, 99: 0.72000,\n",
    "    100: 0.76000, 101: 0.80000, 102: 0.85000, 103: 0.90000,\n",
    "    104: 0.96000, 105: 1.00000}\n",
    "\n",
    "money_by_death = []\n",
    "\n",
    "for i in range(runs):\n",
    "    age = init_age\n",
    "    investment = init_invest\n",
    "    for year in range(years):\n",
    "        gr_rate = np.random.normal(gr_mean, gr_std)\n",
    "        investment = investment * (1 + gr_rate) + contribution\n",
    "        age += 1"
   ]
  }
 ],
 "metadata": {
  "kernelspec": {
   "display_name": "Python 3 (ipykernel)",
   "language": "python",
   "name": "python3"
  },
  "language_info": {
   "codemirror_mode": {
    "name": "ipython",
    "version": 3
   },
   "file_extension": ".py",
   "mimetype": "text/x-python",
   "name": "python",
   "nbconvert_exporter": "python",
   "pygments_lexer": "ipython3",
   "version": "3.7.4"
  }
 },
 "nbformat": 4,
 "nbformat_minor": 2
}
